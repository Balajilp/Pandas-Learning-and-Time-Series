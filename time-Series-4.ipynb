{
 "cells": [
  {
   "cell_type": "code",
   "execution_count": 3,
   "id": "7a1da822",
   "metadata": {},
   "outputs": [
    {
     "data": {
      "text/plain": [
       "DatetimeIndex(['2017-01-05 14:30:00', '2017-01-05 14:30:00',\n",
       "               '2017-01-05 00:00:00', '2017-01-05 00:00:00',\n",
       "               '2017-01-05 00:00:00', '2017-01-05 00:00:00'],\n",
       "              dtype='datetime64[ns]', freq=None)"
      ]
     },
     "execution_count": 3,
     "metadata": {},
     "output_type": "execute_result"
    }
   ],
   "source": [
    "import pandas as pd\n",
    "\n",
    "dates = ['2017-01-05 2:30:00 PM', \"Jan 5, 2017 14:30:00\", '01/05/2017', '2017.01.05', '2017/01/05', '20170105']\n",
    "\n",
    "pd.to_datetime(dates)"
   ]
  },
  {
   "cell_type": "markdown",
   "id": "89bcdff3",
   "metadata": {},
   "source": [
    "# US : mm//dd//yyy\n",
    "# Europe : dd//mm//yyy"
   ]
  },
  {
   "cell_type": "code",
   "execution_count": 10,
   "id": "e168f7fe",
   "metadata": {},
   "outputs": [
    {
     "data": {
      "text/plain": [
       "Timestamp('2017-05-01 00:00:00')"
      ]
     },
     "execution_count": 10,
     "metadata": {},
     "output_type": "execute_result"
    }
   ],
   "source": [
    "# Here we are talking about 5th january ....But it will think that it is may 1st\n",
    "pd.to_datetime('5/1/2017')"
   ]
  },
  {
   "cell_type": "code",
   "execution_count": 7,
   "id": "8d5e6480",
   "metadata": {},
   "outputs": [
    {
     "data": {
      "text/plain": [
       "Timestamp('2017-01-05 00:00:00')"
      ]
     },
     "execution_count": 7,
     "metadata": {},
     "output_type": "execute_result"
    }
   ],
   "source": [
    "# if we want to solve this problem we have to use one parameter called dayfirst=True\n",
    "pd.to_datetime('5/1/2017', dayfirst=True)"
   ]
  },
  {
   "cell_type": "code",
   "execution_count": 12,
   "id": "279e64ba",
   "metadata": {},
   "outputs": [
    {
     "data": {
      "text/plain": [
       "Timestamp('2017-01-05 00:00:00')"
      ]
     },
     "execution_count": 12,
     "metadata": {},
     "output_type": "execute_result"
    }
   ],
   "source": [
    "# We can use our custome separater \"$\", '#' likewise we can use anything as separator\n",
    "pd.to_datetime('5$1$2017', format='%d$%m$%Y')\n",
    "# now it will work perfectly...if we don't give format argument it will through error..note here we don't use dayfirst paramters\n",
    "# but it dayfirst output"
   ]
  },
  {
   "cell_type": "code",
   "execution_count": 16,
   "id": "7c58501a",
   "metadata": {},
   "outputs": [
    {
     "data": {
      "text/plain": [
       "Index(['2017-01-05 2:30:00 PM', 'Jan 5, 2017 14:30:00', '01/05/2017',\n",
       "       '2017.01.05', '2017/01/05', '20170105', 'abc'],\n",
       "      dtype='object')"
      ]
     },
     "execution_count": 16,
     "metadata": {},
     "output_type": "execute_result"
    }
   ],
   "source": [
    "# now we check what happen if we apply a string inside this function...it shows error..because one of the parameter\n",
    "# error=raise so we get error if we insert any string\n",
    "# we need to set it to errors='ignore'\n",
    "dates1 = ['2017-01-05 2:30:00 PM', \"Jan 5, 2017 14:30:00\", '01/05/2017', '2017.01.05', '2017/01/05', '20170105', 'abc']\n",
    "pd.to_datetime(dates1, errors='ignore')\n",
    "# now it will run properly"
   ]
  },
  {
   "cell_type": "code",
   "execution_count": 18,
   "id": "e0c59d5d",
   "metadata": {},
   "outputs": [
    {
     "data": {
      "text/plain": [
       "DatetimeIndex(['2017-01-05 14:30:00', '2017-01-05 14:30:00',\n",
       "               '2017-01-05 00:00:00', '2017-01-05 00:00:00',\n",
       "               '2017-01-05 00:00:00', '2017-01-05 00:00:00',\n",
       "                               'NaT'],\n",
       "              dtype='datetime64[ns]', freq=None)"
      ]
     },
     "execution_count": 18,
     "metadata": {},
     "output_type": "execute_result"
    }
   ],
   "source": [
    "# above we get string in our original output..if we want to ignore it and still perform operation for rest\n",
    "# then we use errors='coerce'\n",
    "dates2 = ['2017-01-05 2:30:00 PM', \"Jan 5, 2017 14:30:00\", '01/05/2017', '2017.01.05', '2017/01/05', '20170105', 'abc']\n",
    "pd.to_datetime(dates1, errors='coerce')\n",
    "# here we clearly see that invalid string converted into Not a timestamp"
   ]
  },
  {
   "cell_type": "markdown",
   "id": "79bd1fed",
   "metadata": {},
   "source": [
    "## Epoch (Unix time) is number of seconds that have passed since Jan 1, 1970 00:00:00 UTC"
   ]
  },
  {
   "cell_type": "code",
   "execution_count": 22,
   "id": "e2838d75",
   "metadata": {},
   "outputs": [
    {
     "data": {
      "text/plain": [
       "Timestamp('2022-01-13 10:32:45')"
      ]
     },
     "execution_count": 22,
     "metadata": {},
     "output_type": "execute_result"
    }
   ],
   "source": [
    "t = 1642069965 # this is the current epoch time in total seconds that have passed since jan 1 1970\n",
    "pd.to_datetime(t, unit='s')\n",
    "# here we need to add one more parameter unit='s' default it is 'ns' nano second"
   ]
  },
  {
   "cell_type": "code",
   "execution_count": 24,
   "id": "0f9453cc",
   "metadata": {},
   "outputs": [],
   "source": [
    "# we can also convert this timestamp into datetimeindex by supplying t to [t] array\n",
    "dt = pd.to_datetime([t], unit='s')"
   ]
  },
  {
   "cell_type": "code",
   "execution_count": 26,
   "id": "303f572b",
   "metadata": {},
   "outputs": [
    {
     "data": {
      "text/plain": [
       "array([1642069965000000000], dtype=int64)"
      ]
     },
     "execution_count": 26,
     "metadata": {},
     "output_type": "execute_result"
    }
   ],
   "source": [
    "# now we can again convert back into 'Epoch'\n",
    "dt.view('int64')\n",
    "# here we got extra zeros because by default it give us nano second"
   ]
  },
  {
   "cell_type": "code",
   "execution_count": null,
   "id": "ea5a6978",
   "metadata": {},
   "outputs": [],
   "source": []
  }
 ],
 "metadata": {
  "kernelspec": {
   "display_name": "Python 3 (ipykernel)",
   "language": "python",
   "name": "python3"
  },
  "language_info": {
   "codemirror_mode": {
    "name": "ipython",
    "version": 3
   },
   "file_extension": ".py",
   "mimetype": "text/x-python",
   "name": "python",
   "nbconvert_exporter": "python",
   "pygments_lexer": "ipython3",
   "version": "3.9.6"
  }
 },
 "nbformat": 4,
 "nbformat_minor": 5
}
